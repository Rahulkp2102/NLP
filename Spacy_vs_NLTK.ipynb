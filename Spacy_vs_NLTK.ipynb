{
  "nbformat": 4,
  "nbformat_minor": 0,
  "metadata": {
    "colab": {
      "provenance": []
    },
    "kernelspec": {
      "name": "python3",
      "display_name": "Python 3"
    },
    "language_info": {
      "name": "python"
    }
  },
  "cells": [
    {
      "cell_type": "markdown",
      "source": [
        "Spacy is Object Oriented and user friendly just like using a camera and clicking picture in Auto mode, That is if we care more about end result we can go with spacy ( no need to select a specific algo )\n"
      ],
      "metadata": {
        "id": "f4k-8cgGAW_l"
      }
    },
    {
      "cell_type": "code",
      "execution_count": 1,
      "metadata": {
        "id": "ja9Q3ENY-eZP"
      },
      "outputs": [],
      "source": [
        "import spacy"
      ]
    },
    {
      "cell_type": "markdown",
      "source": [
        "\n",
        "en_core_web_sm is for the english\n"
      ],
      "metadata": {
        "id": "vcXLioliALVe"
      }
    },
    {
      "cell_type": "code",
      "source": [
        "spacy.load(\"en_core_web_sm\")"
      ],
      "metadata": {
        "colab": {
          "base_uri": "https://localhost:8080/"
        },
        "id": "BRK7pRsg_tIF",
        "outputId": "8b8ccc10-43b9-4d87-809d-827ab414cb5d"
      },
      "execution_count": 2,
      "outputs": [
        {
          "output_type": "execute_result",
          "data": {
            "text/plain": [
              "<spacy.lang.en.English at 0x78db35e64d10>"
            ]
          },
          "metadata": {},
          "execution_count": 2
        }
      ]
    },
    {
      "cell_type": "code",
      "source": [
        "nlp=spacy.load(\"en_core_web_sm\")\n",
        "\n",
        "doc = nlp(\"D.A Rahul have started working on nlp projects. These Projects can help him to build a good portfoli also understanding in the techniques\")\n",
        "\n",
        "for sentence in doc.sents:\n",
        "  print(sentence)\n"
      ],
      "metadata": {
        "colab": {
          "base_uri": "https://localhost:8080/"
        },
        "id": "S6F1LXr-AJnI",
        "outputId": "6b78b50d-c968-435b-fab7-17b18e11abcc"
      },
      "execution_count": 5,
      "outputs": [
        {
          "output_type": "stream",
          "name": "stdout",
          "text": [
            "D.A Rahul have started working on nlp projects.\n",
            "These Projects can help him to build a good portfoli also understanding in the techniques\n"
          ]
        }
      ]
    },
    {
      "cell_type": "code",
      "source": [
        "for sentence in doc.sents:\n",
        "  for word in sentence:\n",
        "    print(word)"
      ],
      "metadata": {
        "colab": {
          "base_uri": "https://localhost:8080/"
        },
        "collapsed": true,
        "id": "AdJPoTuDBCDj",
        "outputId": "0443ff90-5600-46ab-ea0e-0bbd0e990c59"
      },
      "execution_count": 7,
      "outputs": [
        {
          "output_type": "stream",
          "name": "stdout",
          "text": [
            "D.A\n",
            "Rahul\n",
            "have\n",
            "started\n",
            "working\n",
            "on\n",
            "nlp\n",
            "projects\n",
            ".\n",
            "These\n",
            "Projects\n",
            "can\n",
            "help\n",
            "him\n",
            "to\n",
            "build\n",
            "a\n",
            "good\n",
            "portfoli\n",
            "also\n",
            "understanding\n",
            "in\n",
            "the\n",
            "techniques\n"
          ]
        }
      ]
    },
    {
      "cell_type": "markdown",
      "source": [
        "NLTK is mainly a string processing Library. Provide access to many algorithms. Not as user friendly as spacy\n",
        "\n"
      ],
      "metadata": {
        "id": "OZPvPK3nCZMc"
      }
    },
    {
      "cell_type": "code",
      "source": [
        "import nltk\n",
        "nltk.download('punkt')"
      ],
      "metadata": {
        "colab": {
          "base_uri": "https://localhost:8080/"
        },
        "id": "KccnTP5CCSEI",
        "outputId": "c150d826-7657-48c5-9db2-db59b86dc080"
      },
      "execution_count": 8,
      "outputs": [
        {
          "output_type": "stream",
          "name": "stderr",
          "text": [
            "[nltk_data] Downloading package punkt to /root/nltk_data...\n",
            "[nltk_data]   Unzipping tokenizers/punkt.zip.\n"
          ]
        },
        {
          "output_type": "execute_result",
          "data": {
            "text/plain": [
              "True"
            ]
          },
          "metadata": {},
          "execution_count": 8
        }
      ]
    },
    {
      "cell_type": "code",
      "source": [
        "nltk.download('punkt_tab')"
      ],
      "metadata": {
        "colab": {
          "base_uri": "https://localhost:8080/"
        },
        "id": "bNE8f4wfEMAU",
        "outputId": "6fd2568d-2fc9-4af5-890e-439dfd294d1e"
      },
      "execution_count": 14,
      "outputs": [
        {
          "output_type": "stream",
          "name": "stderr",
          "text": [
            "[nltk_data] Downloading package punkt_tab to /root/nltk_data...\n",
            "[nltk_data]   Unzipping tokenizers/punkt_tab.zip.\n"
          ]
        },
        {
          "output_type": "execute_result",
          "data": {
            "text/plain": [
              "True"
            ]
          },
          "metadata": {},
          "execution_count": 14
        }
      ]
    },
    {
      "cell_type": "code",
      "source": [
        "from nltk.tokenize import sent_tokenize\n",
        "sent_tokenize(\"D.A Rahul have started working on nlp projects. These Projects can help him to build a good portfoli also understanding in the techniques\")"
      ],
      "metadata": {
        "colab": {
          "base_uri": "https://localhost:8080/"
        },
        "id": "SMZ9FPixDNEa",
        "outputId": "89f47353-8544-495a-bb4f-301644d65879"
      },
      "execution_count": 15,
      "outputs": [
        {
          "output_type": "execute_result",
          "data": {
            "text/plain": [
              "['D.A Rahul have started working on nlp projects.',\n",
              " 'These Projects can help him to build a good portfoli also understanding in the techniques']"
            ]
          },
          "metadata": {},
          "execution_count": 15
        }
      ]
    },
    {
      "cell_type": "code",
      "source": [
        "from nltk.tokenize import word_tokenize\n",
        "word_tokenize(\"D.A Rahul have started working on nlp projects. These Projects can help him to build a good portfoli also understanding in the techniques\")"
      ],
      "metadata": {
        "colab": {
          "base_uri": "https://localhost:8080/"
        },
        "collapsed": true,
        "id": "LqjafUerDktS",
        "outputId": "faa4cbef-e424-4e0b-f36f-e08c1be4e2fc"
      },
      "execution_count": 16,
      "outputs": [
        {
          "output_type": "execute_result",
          "data": {
            "text/plain": [
              "['D.A',\n",
              " 'Rahul',\n",
              " 'have',\n",
              " 'started',\n",
              " 'working',\n",
              " 'on',\n",
              " 'nlp',\n",
              " 'projects',\n",
              " '.',\n",
              " 'These',\n",
              " 'Projects',\n",
              " 'can',\n",
              " 'help',\n",
              " 'him',\n",
              " 'to',\n",
              " 'build',\n",
              " 'a',\n",
              " 'good',\n",
              " 'portfoli',\n",
              " 'also',\n",
              " 'understanding',\n",
              " 'in',\n",
              " 'the',\n",
              " 'techniques']"
            ]
          },
          "metadata": {},
          "execution_count": 16
        }
      ]
    },
    {
      "cell_type": "code",
      "source": [],
      "metadata": {
        "id": "Mk_nZG8UEdUe"
      },
      "execution_count": null,
      "outputs": []
    }
  ]
}